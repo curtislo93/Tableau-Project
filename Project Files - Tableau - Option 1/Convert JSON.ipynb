{
 "cells": [
  {
   "cell_type": "code",
   "execution_count": 4,
   "id": "2c942ceb-4fd4-4776-8326-dfd225af16c2",
   "metadata": {
    "tags": []
   },
   "outputs": [
    {
     "name": "stdout",
     "output_type": "stream",
     "text": [
      "People spent more of their earnings in 2014 than in 2001, adjusted for inflation.\n"
     ]
    }
   ],
   "source": [
    "# Example data (replace with your actual data)\n",
    "earnings_2001 = 34388  # Earnings in 2001\n",
    "earnings_2014 = 50934  # Earnings in 2014\n",
    "cpi_2001 = 98.03     # CPI for 2001\n",
    "cpi_2014 = 121.93      # CPI for 2014\n",
    "\n",
    "# Calculate inflation adjustment factor\n",
    "inflation_adjustment_factor = cpi_2001 / cpi_2014\n",
    "\n",
    "# Calculate inflation-adjusted earnings for 2001\n",
    "inflation_adjusted_earnings_2001 = earnings_2001 * inflation_adjustment_factor\n",
    "\n",
    "# Calculate proportion of earnings spent in 2014 (adjusted for inflation)\n",
    "proportion_2014 = earnings_2014 / inflation_adjusted_earnings_2001\n",
    "\n",
    "# Compare proportions\n",
    "if proportion_2014 > 1:\n",
    "    print(\"People spent more of their earnings in 2014 than in 2001, adjusted for inflation.\")\n",
    "else:\n",
    "    print(\"People spent a similar or lower proportion of their earnings in 2014 compared to 2001, adjusted for inflation.\")\n"
   ]
  },
  {
   "cell_type": "code",
   "execution_count": null,
   "id": "722100ef-a575-465b-8fd0-1b8a052f91f9",
   "metadata": {},
   "outputs": [],
   "source": []
  }
 ],
 "metadata": {
  "kernelspec": {
   "display_name": "Python 3 (ipykernel)",
   "language": "python",
   "name": "python3"
  },
  "language_info": {
   "codemirror_mode": {
    "name": "ipython",
    "version": 3
   },
   "file_extension": ".py",
   "mimetype": "text/x-python",
   "name": "python",
   "nbconvert_exporter": "python",
   "pygments_lexer": "ipython3",
   "version": "3.11.3"
  }
 },
 "nbformat": 4,
 "nbformat_minor": 5
}
